{
  "cells": [
    {
      "attachments": {},
      "cell_type": "markdown",
      "metadata": {},
      "source": [
        "Notebook (Penjelasan dengan Crisp-Dm)\n",
        "1. BUSINESS UNDERSTANDING\n",
        "Pada tahap ini membutuhkan pemahaman dalam pengetahuan objek bisnis, bagaimana membangun atau mendapatkan data, dan bagaimana untuk mencocokan tujuan pemodelan untuk tujuan bisnis sehingga model terbaik dapat dibangun.\n",
        "\n",
        "Problem : food (makanan) mempunyai banyak menu yang dapat menyebabkan kolestrol. Sehingga pengonsumsian protein sangat perlu di perhatikan, mengkonsumsi makanan yang berlebihan dapat menyebabkan seseorang mengalami obesitas, serta dapat menyebabkan terjadinya gangguan kesehatan.\n",
        "Maka dari itu agar menghindari resiko berkepanjangan, kami melakukan penelitian dengan pakar kesehatan yang mengandung protein. untuk menyediakan Menu makanan kaya akan kandungan nutrisi yang mendukung proses pertumbuhan.\n",
        "\n",
        "Tujuan : Dataset yang di ambil dari kaggle ini (https://www.kaggle.com/datasets/shrutisaxena/food-nutrition-dataset?select=food1.csv) bertujuan untuk menganalisis dan mengetahui estimasi jumlah protein dari menu food (makanan), agar pelanggan dapat lebih memahami kandungan nutrisi dan dapat membuat keputusan untuk asupan makanan mereka, serta membantu mengelola kesehatan dengan lebih baik.\n",
        "\n",
        "2. DATA UNDERSTANDING\n",
        "Tahap ini memberikan fondasi analitik untuk sebuah penelitian dengan membuat ringkasaan (summary) dan mengidentifikasi potensi masalah dalam data.\n",
        "\n",
        "Dari pengumpulan data yang telah diambil mengenai Menu Food (makanan), terdapat 47 kolom yang berisi 4 kolom objek, 25 kolom float dan 19 kolom integer. Jika menggunakan regresi linear, maka hanya kolom yang berisi float saja yang bisa diolah. Berikut atribut-atribut nya :\n",
        " 0   Category (object)\n",
        " 1   Description (object)                                         \n",
        " 2   Nutrient Data Bank Number (int64)                               \n",
        " 3   Data.Alpha Carotene (int64)                                        \n",
        " 4   Data.Ash (float64)                                                \n",
        " 5   Data.Beta Carotene (int64)                                        \n",
        " 6   Data.Beta Cryptoxanthin (int64)                                \n",
        " 7   Data.Carbohydrate (float64)                                       \n",
        " 8   Data.Cholesterol (int64)                                      \n",
        " 9   Data.Choline (int64)                                                \n",
        " 10  Data.Fiber (float64)                                              \n",
        " 11  Data.Kilocalories (int64)                                    \n",
        " 12  Data.Lutein and Zeaxanthin (int64)                             \n",
        " 13  Data.Lycopene (int64)                                           \n",
        " 14  Data.Manganese (float64)                                         \n",
        " 15  Data.Niacin (float64)                                            \n",
        " 16  Data.Pantothenic Acid (float64)                                  \n",
        " 17  Data.Protein (float64)                                          \n",
        " 18  Data.Refuse Percentage (int64)                                    \n",
        " 19  Data.Retinol (int64)                                             \n",
        " 20  Data.Riboflavin (float64)                                       \n",
        " 21  Data.Selenium (float64)                                         \n",
        " 22  Data.Sugar Total (float64)                                        \n",
        " 23  Data.Thiamin (float64)                                            \n",
        " 24  Data.Water (float64)                                               \n",
        " 25  Data.Fat.Monosaturated Fat (float64)                             \n",
        " 26  Data.Fat.Polysaturated Fat (float64)                              \n",
        " 27  Data.Fat.Saturated Fat (float64)                                \n",
        " 28  Data.Fat.Total Lipid (float64)                                    \n",
        " 29  Data.Household Weights.1st Household Weight (float64)             \n",
        " 30  Data.Household Weights.1st Household Weight Description (object)\n",
        " 31  Data.Household Weights.2nd Household Weight (int64)\n",
        " 32  Data.Household Weights.2nd Household Weight Description (object)  \n",
        " 33  Data.Major Minerals.Calcium (int64)                          \n",
        " 34  Data.Major Minerals.Copper (float64)                              \n",
        " 35  Data.Major Minerals.Iron (float64)                                \n",
        " 36  Data.Major Minerals.Magnesium (int64)                          \n",
        " 37  Data.Major Minerals.Phosphorus (int64)                           \n",
        " 38  Data.Major Minerals.Potassium (int64)                            \n",
        " 39  Data.Major Minerals.Sodium (int64)                                \n",
        " 40  Data.Major Minerals.Zinc (float64)                                 \n",
        " 41  Data.Vitamins.Vitamin A - IU (int64)                         \n",
        " 42  Data.Vitamins.Vitamin A - RAE (int64)                           \n",
        " 43  Data.Vitamins.Vitamin B12 (float64)                              \n",
        " 44  Data.Vitamins.Vitamin B6 (float64)                                \n",
        " 45  Data.Vitamins.Vitamin C (float64)                                  \n",
        " 46  Data.Vitamins.Vitamin E (float64)                                 \n",
        " 47  Data.Vitamins.Vitamin K (float64)  \n",
        "\n",
        "3. DATA PREPARATION\n",
        "Tahap ini secara garis besar di pakai untuk memperbaiki masalah dalam data, sangat jelas bahwa dalam tahap ini membutuhkan pemikiran yang cukup matang dan usaha yang cukup tinggi untuk memastikan data tepat untuk algoritma yang digunakan dan proses data dapat menuju model berkualitas yang berguna.\n",
        "\n",
        "Beriku artibut data yang diambil yaitu :\n",
        "\n",
        "- Data.Ash\n",
        "- Data.Carbohydrate\n",
        "- Data.Kilocalories\n",
        "- Data.Cholesterol\n",
        "- Data.Choline\n",
        "- Data.Selenium\n",
        "- Data.Water\n",
        "sedangkan untuk Data.Protein sebagai target.\n",
        "\n",
        "4. MODELLING\n",
        "Pada tahap ini dilakukan metode statistika dan Machine Learning untuk penentuan terhadap teknik data mining, alat bantu data mining, dan algoritma data mining yang akan diterapkan. Jika diperlukan penyesuaian data terhadap teknik data mining tertentu, maka dapat kembali ke tahap data preparation.\n",
        "\n",
        "Model yang digunakan untuk menganalisis data statistik ini yaitu regresi linier.\n",
        "\n",
        "5. EVALUATION\n",
        "Setelah di dapatkan beberapa model, sehingga dilakukan penilaian terkait kualitas dan efektisitas-nya. Kemudian lakukan interpretasi terhadap hasil dari data mining yang dihasilkan dalam proses pemodelan pada tahap sebelumnya, dengan tujuan agar model yang ditentukan dapat sesuai dengan tujuan yang ingin dicapai dalam tahap pertama atau tahap business understanding.                              "
      ]
    },
    {
      "cell_type": "markdown",
      "metadata": {
        "id": "I48rVPoyNrBt"
      },
      "source": [
        "# deskripsi library yang digunakan"
      ]
    },
    {
      "cell_type": "code",
      "execution_count": 4,
      "metadata": {
        "id": "l_-i2PPUNrBy"
      },
      "outputs": [],
      "source": [
        "import pandas as pd\n",
        "import numpy as np\n",
        "import matplotlib.pyplot as plt\n",
        "import seaborn as sns"
      ]
    },
    {
      "cell_type": "markdown",
      "metadata": {
        "id": "dX4yhSrUNrB0"
      },
      "source": [
        "# Memanggil Dataset"
      ]
    },
    {
      "cell_type": "code",
      "execution_count": 5,
      "metadata": {
        "id": "Ayt9D6kVNrB0"
      },
      "outputs": [],
      "source": [
        "df = pd.read_csv('food1.csv')"
      ]
    },
    {
      "cell_type": "markdown",
      "metadata": {
        "id": "qIAH7svaNrB0"
      },
      "source": [
        "# Deskripsi Dataset"
      ]
    },
    {
      "cell_type": "code",
      "execution_count": 6,
      "metadata": {
        "colab": {
          "base_uri": "https://localhost:8080/",
          "height": 386
        },
        "id": "Sf52LzEdNrB1",
        "outputId": "e0d9616f-1fa1-4c54-bf94-724b6d5e2a57"
      },
      "outputs": [
        {
          "data": {
            "text/html": [
              "<div>\n",
              "<style scoped>\n",
              "    .dataframe tbody tr th:only-of-type {\n",
              "        vertical-align: middle;\n",
              "    }\n",
              "\n",
              "    .dataframe tbody tr th {\n",
              "        vertical-align: top;\n",
              "    }\n",
              "\n",
              "    .dataframe thead th {\n",
              "        text-align: right;\n",
              "    }\n",
              "</style>\n",
              "<table border=\"1\" class=\"dataframe\">\n",
              "  <thead>\n",
              "    <tr style=\"text-align: right;\">\n",
              "      <th></th>\n",
              "      <th>Category</th>\n",
              "      <th>Description</th>\n",
              "      <th>Nutrient Data Bank Number</th>\n",
              "      <th>Data.Alpha Carotene</th>\n",
              "      <th>Data.Ash</th>\n",
              "      <th>Data.Beta Carotene</th>\n",
              "      <th>Data.Beta Cryptoxanthin</th>\n",
              "      <th>Data.Carbohydrate</th>\n",
              "      <th>Data.Cholesterol</th>\n",
              "      <th>Data.Choline</th>\n",
              "      <th>...</th>\n",
              "      <th>Data.Major Minerals.Potassium</th>\n",
              "      <th>Data.Major Minerals.Sodium</th>\n",
              "      <th>Data.Major Minerals.Zinc</th>\n",
              "      <th>Data.Vitamins.Vitamin A - IU</th>\n",
              "      <th>Data.Vitamins.Vitamin A - RAE</th>\n",
              "      <th>Data.Vitamins.Vitamin B12</th>\n",
              "      <th>Data.Vitamins.Vitamin B6</th>\n",
              "      <th>Data.Vitamins.Vitamin C</th>\n",
              "      <th>Data.Vitamins.Vitamin E</th>\n",
              "      <th>Data.Vitamins.Vitamin K</th>\n",
              "    </tr>\n",
              "  </thead>\n",
              "  <tbody>\n",
              "    <tr>\n",
              "      <th>0</th>\n",
              "      <td>BUTTER</td>\n",
              "      <td>BUTTER,WITH SALT</td>\n",
              "      <td>1001</td>\n",
              "      <td>0</td>\n",
              "      <td>2.11</td>\n",
              "      <td>158</td>\n",
              "      <td>0</td>\n",
              "      <td>0.06</td>\n",
              "      <td>215</td>\n",
              "      <td>19</td>\n",
              "      <td>...</td>\n",
              "      <td>24</td>\n",
              "      <td>576</td>\n",
              "      <td>0.09</td>\n",
              "      <td>2499</td>\n",
              "      <td>684</td>\n",
              "      <td>0.17</td>\n",
              "      <td>0.003</td>\n",
              "      <td>0.0</td>\n",
              "      <td>2.32</td>\n",
              "      <td>7.0</td>\n",
              "    </tr>\n",
              "    <tr>\n",
              "      <th>1</th>\n",
              "      <td>BUTTER</td>\n",
              "      <td>BUTTER,WHIPPED,WITH SALT</td>\n",
              "      <td>1002</td>\n",
              "      <td>0</td>\n",
              "      <td>2.11</td>\n",
              "      <td>158</td>\n",
              "      <td>0</td>\n",
              "      <td>0.06</td>\n",
              "      <td>219</td>\n",
              "      <td>19</td>\n",
              "      <td>...</td>\n",
              "      <td>26</td>\n",
              "      <td>827</td>\n",
              "      <td>0.05</td>\n",
              "      <td>2499</td>\n",
              "      <td>684</td>\n",
              "      <td>0.13</td>\n",
              "      <td>0.003</td>\n",
              "      <td>0.0</td>\n",
              "      <td>2.32</td>\n",
              "      <td>7.0</td>\n",
              "    </tr>\n",
              "    <tr>\n",
              "      <th>2</th>\n",
              "      <td>BUTTER OIL</td>\n",
              "      <td>BUTTER OIL,ANHYDROUS</td>\n",
              "      <td>1003</td>\n",
              "      <td>0</td>\n",
              "      <td>0.00</td>\n",
              "      <td>193</td>\n",
              "      <td>0</td>\n",
              "      <td>0.00</td>\n",
              "      <td>256</td>\n",
              "      <td>22</td>\n",
              "      <td>...</td>\n",
              "      <td>5</td>\n",
              "      <td>2</td>\n",
              "      <td>0.01</td>\n",
              "      <td>3069</td>\n",
              "      <td>840</td>\n",
              "      <td>0.01</td>\n",
              "      <td>0.001</td>\n",
              "      <td>0.0</td>\n",
              "      <td>2.80</td>\n",
              "      <td>8.6</td>\n",
              "    </tr>\n",
              "    <tr>\n",
              "      <th>3</th>\n",
              "      <td>CHEESE</td>\n",
              "      <td>CHEESE,BLUE</td>\n",
              "      <td>1004</td>\n",
              "      <td>0</td>\n",
              "      <td>5.11</td>\n",
              "      <td>74</td>\n",
              "      <td>0</td>\n",
              "      <td>2.34</td>\n",
              "      <td>75</td>\n",
              "      <td>15</td>\n",
              "      <td>...</td>\n",
              "      <td>256</td>\n",
              "      <td>1395</td>\n",
              "      <td>2.66</td>\n",
              "      <td>763</td>\n",
              "      <td>198</td>\n",
              "      <td>1.22</td>\n",
              "      <td>0.166</td>\n",
              "      <td>0.0</td>\n",
              "      <td>0.25</td>\n",
              "      <td>2.4</td>\n",
              "    </tr>\n",
              "    <tr>\n",
              "      <th>4</th>\n",
              "      <td>CHEESE</td>\n",
              "      <td>CHEESE,BRICK</td>\n",
              "      <td>1005</td>\n",
              "      <td>0</td>\n",
              "      <td>3.18</td>\n",
              "      <td>76</td>\n",
              "      <td>0</td>\n",
              "      <td>2.79</td>\n",
              "      <td>94</td>\n",
              "      <td>15</td>\n",
              "      <td>...</td>\n",
              "      <td>136</td>\n",
              "      <td>560</td>\n",
              "      <td>2.60</td>\n",
              "      <td>1080</td>\n",
              "      <td>292</td>\n",
              "      <td>1.26</td>\n",
              "      <td>0.065</td>\n",
              "      <td>0.0</td>\n",
              "      <td>0.26</td>\n",
              "      <td>2.5</td>\n",
              "    </tr>\n",
              "  </tbody>\n",
              "</table>\n",
              "<p>5 rows × 48 columns</p>\n",
              "</div>"
            ],
            "text/plain": [
              "     Category               Description  Nutrient Data Bank Number  \\\n",
              "0      BUTTER          BUTTER,WITH SALT                       1001   \n",
              "1      BUTTER  BUTTER,WHIPPED,WITH SALT                       1002   \n",
              "2  BUTTER OIL      BUTTER OIL,ANHYDROUS                       1003   \n",
              "3      CHEESE               CHEESE,BLUE                       1004   \n",
              "4      CHEESE              CHEESE,BRICK                       1005   \n",
              "\n",
              "   Data.Alpha Carotene  Data.Ash  Data.Beta Carotene  Data.Beta Cryptoxanthin  \\\n",
              "0                    0      2.11                 158                        0   \n",
              "1                    0      2.11                 158                        0   \n",
              "2                    0      0.00                 193                        0   \n",
              "3                    0      5.11                  74                        0   \n",
              "4                    0      3.18                  76                        0   \n",
              "\n",
              "   Data.Carbohydrate  Data.Cholesterol  Data.Choline  ...  \\\n",
              "0               0.06               215            19  ...   \n",
              "1               0.06               219            19  ...   \n",
              "2               0.00               256            22  ...   \n",
              "3               2.34                75            15  ...   \n",
              "4               2.79                94            15  ...   \n",
              "\n",
              "   Data.Major Minerals.Potassium  Data.Major Minerals.Sodium  \\\n",
              "0                             24                         576   \n",
              "1                             26                         827   \n",
              "2                              5                           2   \n",
              "3                            256                        1395   \n",
              "4                            136                         560   \n",
              "\n",
              "   Data.Major Minerals.Zinc  Data.Vitamins.Vitamin A - IU  \\\n",
              "0                      0.09                          2499   \n",
              "1                      0.05                          2499   \n",
              "2                      0.01                          3069   \n",
              "3                      2.66                           763   \n",
              "4                      2.60                          1080   \n",
              "\n",
              "   Data.Vitamins.Vitamin A - RAE  Data.Vitamins.Vitamin B12  \\\n",
              "0                            684                       0.17   \n",
              "1                            684                       0.13   \n",
              "2                            840                       0.01   \n",
              "3                            198                       1.22   \n",
              "4                            292                       1.26   \n",
              "\n",
              "   Data.Vitamins.Vitamin B6  Data.Vitamins.Vitamin C  Data.Vitamins.Vitamin E  \\\n",
              "0                     0.003                      0.0                     2.32   \n",
              "1                     0.003                      0.0                     2.32   \n",
              "2                     0.001                      0.0                     2.80   \n",
              "3                     0.166                      0.0                     0.25   \n",
              "4                     0.065                      0.0                     0.26   \n",
              "\n",
              "   Data.Vitamins.Vitamin K  \n",
              "0                      7.0  \n",
              "1                      7.0  \n",
              "2                      8.6  \n",
              "3                      2.4  \n",
              "4                      2.5  \n",
              "\n",
              "[5 rows x 48 columns]"
            ]
          },
          "execution_count": 6,
          "metadata": {},
          "output_type": "execute_result"
        }
      ],
      "source": [
        "df.head()"
      ]
    },
    {
      "cell_type": "code",
      "execution_count": 7,
      "metadata": {
        "colab": {
          "base_uri": "https://localhost:8080/"
        },
        "id": "P60cADcpNrB2",
        "outputId": "5e351fdd-6727-4438-d37d-1b4b7093575f"
      },
      "outputs": [
        {
          "name": "stdout",
          "output_type": "stream",
          "text": [
            "<class 'pandas.core.frame.DataFrame'>\n",
            "RangeIndex: 7413 entries, 0 to 7412\n",
            "Data columns (total 48 columns):\n",
            " #   Column                                                   Non-Null Count  Dtype  \n",
            "---  ------                                                   --------------  -----  \n",
            " 0   Category                                                 7413 non-null   object \n",
            " 1   Description                                              7413 non-null   object \n",
            " 2   Nutrient Data Bank Number                                7413 non-null   int64  \n",
            " 3   Data.Alpha Carotene                                      7413 non-null   int64  \n",
            " 4   Data.Ash                                                 7413 non-null   float64\n",
            " 5   Data.Beta Carotene                                       7413 non-null   int64  \n",
            " 6   Data.Beta Cryptoxanthin                                  7413 non-null   int64  \n",
            " 7   Data.Carbohydrate                                        7413 non-null   float64\n",
            " 8   Data.Cholesterol                                         7413 non-null   int64  \n",
            " 9   Data.Choline                                             7413 non-null   int64  \n",
            " 10  Data.Fiber                                               7413 non-null   float64\n",
            " 11  Data.Kilocalories                                        7413 non-null   int64  \n",
            " 12  Data.Lutein and Zeaxanthin                               7413 non-null   int64  \n",
            " 13  Data.Lycopene                                            7413 non-null   int64  \n",
            " 14  Data.Manganese                                           7413 non-null   float64\n",
            " 15  Data.Niacin                                              7413 non-null   float64\n",
            " 16  Data.Pantothenic Acid                                    7413 non-null   float64\n",
            " 17  Data.Protein                                             7413 non-null   float64\n",
            " 18  Data.Refuse Percentage                                   7413 non-null   int64  \n",
            " 19  Data.Retinol                                             7413 non-null   int64  \n",
            " 20  Data.Riboflavin                                          7413 non-null   float64\n",
            " 21  Data.Selenium                                            7413 non-null   float64\n",
            " 22  Data.Sugar Total                                         7413 non-null   float64\n",
            " 23  Data.Thiamin                                             7413 non-null   float64\n",
            " 24  Data.Water                                               7413 non-null   float64\n",
            " 25  Data.Fat.Monosaturated Fat                               7413 non-null   float64\n",
            " 26  Data.Fat.Polysaturated Fat                               7413 non-null   float64\n",
            " 27  Data.Fat.Saturated Fat                                   7413 non-null   float64\n",
            " 28  Data.Fat.Total Lipid                                     7413 non-null   float64\n",
            " 29  Data.Household Weights.1st Household Weight              7413 non-null   float64\n",
            " 30  Data.Household Weights.1st Household Weight Description  6943 non-null   object \n",
            " 31  Data.Household Weights.2nd Household Weight              7413 non-null   int64  \n",
            " 32  Data.Household Weights.2nd Household Weight Description  4313 non-null   object \n",
            " 33  Data.Major Minerals.Calcium                              7413 non-null   int64  \n",
            " 34  Data.Major Minerals.Copper                               7413 non-null   float64\n",
            " 35  Data.Major Minerals.Iron                                 7413 non-null   float64\n",
            " 36  Data.Major Minerals.Magnesium                            7413 non-null   int64  \n",
            " 37  Data.Major Minerals.Phosphorus                           7413 non-null   int64  \n",
            " 38  Data.Major Minerals.Potassium                            7413 non-null   int64  \n",
            " 39  Data.Major Minerals.Sodium                               7413 non-null   int64  \n",
            " 40  Data.Major Minerals.Zinc                                 7413 non-null   float64\n",
            " 41  Data.Vitamins.Vitamin A - IU                             7413 non-null   int64  \n",
            " 42  Data.Vitamins.Vitamin A - RAE                            7413 non-null   int64  \n",
            " 43  Data.Vitamins.Vitamin B12                                7413 non-null   float64\n",
            " 44  Data.Vitamins.Vitamin B6                                 7413 non-null   float64\n",
            " 45  Data.Vitamins.Vitamin C                                  7413 non-null   float64\n",
            " 46  Data.Vitamins.Vitamin E                                  7413 non-null   float64\n",
            " 47  Data.Vitamins.Vitamin K                                  7413 non-null   float64\n",
            "dtypes: float64(25), int64(19), object(4)\n",
            "memory usage: 2.7+ MB\n"
          ]
        }
      ],
      "source": [
        "df.info()"
      ]
    },
    {
      "attachments": {},
      "cell_type": "markdown",
      "metadata": {},
      "source": [
        "# Mencari Heatmap"
      ]
    },
    {
      "cell_type": "code",
      "execution_count": 8,
      "metadata": {
        "colab": {
          "base_uri": "https://localhost:8080/",
          "height": 856
        },
        "id": "RjKedTu0NrB2",
        "outputId": "3ea897df-770c-4864-d332-59dc7fa96c4b"
      },
      "outputs": [
        {
          "data": {
            "text/plain": [
              "<Axes: >"
            ]
          },
          "execution_count": 8,
          "metadata": {},
          "output_type": "execute_result"
        },
        {
          "data": {
            "image/png": "[encoded data removed]",
            "text/plain": [
              "<Figure size 640x480 with 2 Axes>"
            ]
          },
          "metadata": {},
          "output_type": "display_data"
        }
      ],
      "source": [
        "sns.heatmap(df.isnull())"
      ]
    },
    {
      "attachments": {},
      "cell_type": "markdown",
      "metadata": {},
      "source": [
        "# Melihat Nilai Data"
      ]
    },
    {
      "cell_type": "code",
      "execution_count": 9,
      "metadata": {
        "colab": {
          "base_uri": "https://localhost:8080/",
          "height": 428
        },
        "id": "b_e4XGmwNrB3",
        "outputId": "a15e87ef-884a-4340-b8fa-5680ef8c8bc6"
      },
      "outputs": [
        {
          "data": {
            "text/html": [
              "<div>\n",
              "<style scoped>\n",
              "    .dataframe tbody tr th:only-of-type {\n",
              "        vertical-align: middle;\n",
              "    }\n",
              "\n",
              "    .dataframe tbody tr th {\n",
              "        vertical-align: top;\n",
              "    }\n",
              "\n",
              "    .dataframe thead th {\n",
              "        text-align: right;\n",
              "    }\n",
              "</style>\n",
              "<table border=\"1\" class=\"dataframe\">\n",
              "  <thead>\n",
              "    <tr style=\"text-align: right;\">\n",
              "      <th></th>\n",
              "      <th>Nutrient Data Bank Number</th>\n",
              "      <th>Data.Alpha Carotene</th>\n",
              "      <th>Data.Ash</th>\n",
              "      <th>Data.Beta Carotene</th>\n",
              "      <th>Data.Beta Cryptoxanthin</th>\n",
              "      <th>Data.Carbohydrate</th>\n",
              "      <th>Data.Cholesterol</th>\n",
              "      <th>Data.Choline</th>\n",
              "      <th>Data.Fiber</th>\n",
              "      <th>Data.Kilocalories</th>\n",
              "      <th>...</th>\n",
              "      <th>Data.Major Minerals.Potassium</th>\n",
              "      <th>Data.Major Minerals.Sodium</th>\n",
              "      <th>Data.Major Minerals.Zinc</th>\n",
              "      <th>Data.Vitamins.Vitamin A - IU</th>\n",
              "      <th>Data.Vitamins.Vitamin A - RAE</th>\n",
              "      <th>Data.Vitamins.Vitamin B12</th>\n",
              "      <th>Data.Vitamins.Vitamin B6</th>\n",
              "      <th>Data.Vitamins.Vitamin C</th>\n",
              "      <th>Data.Vitamins.Vitamin E</th>\n",
              "      <th>Data.Vitamins.Vitamin K</th>\n",
              "    </tr>\n",
              "  </thead>\n",
              "  <tbody>\n",
              "    <tr>\n",
              "      <th>count</th>\n",
              "      <td>7413.000000</td>\n",
              "      <td>7413.000000</td>\n",
              "      <td>7413.000000</td>\n",
              "      <td>7413.000000</td>\n",
              "      <td>7413.000000</td>\n",
              "      <td>7413.000000</td>\n",
              "      <td>7413.000000</td>\n",
              "      <td>7413.000000</td>\n",
              "      <td>7413.000000</td>\n",
              "      <td>7413.000000</td>\n",
              "      <td>...</td>\n",
              "      <td>7413.000000</td>\n",
              "      <td>7413.000000</td>\n",
              "      <td>7413.000000</td>\n",
              "      <td>7413.000000</td>\n",
              "      <td>7413.000000</td>\n",
              "      <td>7413.000000</td>\n",
              "      <td>7413.000000</td>\n",
              "      <td>7413.000000</td>\n",
              "      <td>7413.000000</td>\n",
              "      <td>7413.000000</td>\n",
              "    </tr>\n",
              "    <tr>\n",
              "      <th>mean</th>\n",
              "      <td>14116.443680</td>\n",
              "      <td>21.210711</td>\n",
              "      <td>1.852459</td>\n",
              "      <td>159.043437</td>\n",
              "      <td>8.776744</td>\n",
              "      <td>21.785381</td>\n",
              "      <td>37.162822</td>\n",
              "      <td>20.673546</td>\n",
              "      <td>1.993147</td>\n",
              "      <td>219.655875</td>\n",
              "      <td>...</td>\n",
              "      <td>268.348172</td>\n",
              "      <td>331.590719</td>\n",
              "      <td>1.875125</td>\n",
              "      <td>767.568191</td>\n",
              "      <td>99.437070</td>\n",
              "      <td>1.172903</td>\n",
              "      <td>0.269547</td>\n",
              "      <td>9.075651</td>\n",
              "      <td>0.842837</td>\n",
              "      <td>9.448604</td>\n",
              "    </tr>\n",
              "    <tr>\n",
              "      <th>std</th>\n",
              "      <td>8767.416214</td>\n",
              "      <td>269.714183</td>\n",
              "      <td>2.993228</td>\n",
              "      <td>1126.285026</td>\n",
              "      <td>154.184860</td>\n",
              "      <td>27.123491</td>\n",
              "      <td>119.738438</td>\n",
              "      <td>45.481990</td>\n",
              "      <td>4.292873</td>\n",
              "      <td>171.668713</td>\n",
              "      <td>...</td>\n",
              "      <td>404.916220</td>\n",
              "      <td>977.046544</td>\n",
              "      <td>4.193682</td>\n",
              "      <td>3871.307652</td>\n",
              "      <td>761.653061</td>\n",
              "      <td>4.512816</td>\n",
              "      <td>0.565116</td>\n",
              "      <td>63.443284</td>\n",
              "      <td>4.169756</td>\n",
              "      <td>66.067619</td>\n",
              "    </tr>\n",
              "    <tr>\n",
              "      <th>min</th>\n",
              "      <td>1001.000000</td>\n",
              "      <td>0.000000</td>\n",
              "      <td>0.000000</td>\n",
              "      <td>0.000000</td>\n",
              "      <td>0.000000</td>\n",
              "      <td>0.000000</td>\n",
              "      <td>0.000000</td>\n",
              "      <td>0.000000</td>\n",
              "      <td>0.000000</td>\n",
              "      <td>0.000000</td>\n",
              "      <td>...</td>\n",
              "      <td>0.000000</td>\n",
              "      <td>0.000000</td>\n",
              "      <td>0.000000</td>\n",
              "      <td>0.000000</td>\n",
              "      <td>0.000000</td>\n",
              "      <td>0.000000</td>\n",
              "      <td>0.000000</td>\n",
              "      <td>0.000000</td>\n",
              "      <td>0.000000</td>\n",
              "      <td>0.000000</td>\n",
              "    </tr>\n",
              "    <tr>\n",
              "      <th>25%</th>\n",
              "      <td>8121.000000</td>\n",
              "      <td>0.000000</td>\n",
              "      <td>0.830000</td>\n",
              "      <td>0.000000</td>\n",
              "      <td>0.000000</td>\n",
              "      <td>0.490000</td>\n",
              "      <td>0.000000</td>\n",
              "      <td>0.000000</td>\n",
              "      <td>0.000000</td>\n",
              "      <td>82.000000</td>\n",
              "      <td>...</td>\n",
              "      <td>103.000000</td>\n",
              "      <td>31.000000</td>\n",
              "      <td>0.190000</td>\n",
              "      <td>0.000000</td>\n",
              "      <td>0.000000</td>\n",
              "      <td>0.000000</td>\n",
              "      <td>0.030000</td>\n",
              "      <td>0.000000</td>\n",
              "      <td>0.000000</td>\n",
              "      <td>0.000000</td>\n",
              "    </tr>\n",
              "    <tr>\n",
              "      <th>50%</th>\n",
              "      <td>12539.000000</td>\n",
              "      <td>0.000000</td>\n",
              "      <td>1.240000</td>\n",
              "      <td>0.000000</td>\n",
              "      <td>0.000000</td>\n",
              "      <td>9.290000</td>\n",
              "      <td>2.000000</td>\n",
              "      <td>0.000000</td>\n",
              "      <td>0.300000</td>\n",
              "      <td>181.000000</td>\n",
              "      <td>...</td>\n",
              "      <td>210.000000</td>\n",
              "      <td>86.000000</td>\n",
              "      <td>0.770000</td>\n",
              "      <td>33.000000</td>\n",
              "      <td>0.000000</td>\n",
              "      <td>0.010000</td>\n",
              "      <td>0.110000</td>\n",
              "      <td>0.000000</td>\n",
              "      <td>0.050000</td>\n",
              "      <td>0.000000</td>\n",
              "    </tr>\n",
              "    <tr>\n",
              "      <th>75%</th>\n",
              "      <td>18424.000000</td>\n",
              "      <td>0.000000</td>\n",
              "      <td>2.200000</td>\n",
              "      <td>1.000000</td>\n",
              "      <td>0.000000</td>\n",
              "      <td>30.590000</td>\n",
              "      <td>60.000000</td>\n",
              "      <td>20.000000</td>\n",
              "      <td>2.300000</td>\n",
              "      <td>331.000000</td>\n",
              "      <td>...</td>\n",
              "      <td>328.000000</td>\n",
              "      <td>428.000000</td>\n",
              "      <td>2.460000</td>\n",
              "      <td>280.000000</td>\n",
              "      <td>24.000000</td>\n",
              "      <td>0.830000</td>\n",
              "      <td>0.330000</td>\n",
              "      <td>3.500000</td>\n",
              "      <td>0.390000</td>\n",
              "      <td>1.700000</td>\n",
              "    </tr>\n",
              "    <tr>\n",
              "      <th>max</th>\n",
              "      <td>93600.000000</td>\n",
              "      <td>14251.000000</td>\n",
              "      <td>99.800000</td>\n",
              "      <td>42891.000000</td>\n",
              "      <td>7923.000000</td>\n",
              "      <td>100.000000</td>\n",
              "      <td>3100.000000</td>\n",
              "      <td>1388.000000</td>\n",
              "      <td>79.000000</td>\n",
              "      <td>902.000000</td>\n",
              "      <td>...</td>\n",
              "      <td>16500.000000</td>\n",
              "      <td>38758.000000</td>\n",
              "      <td>181.610000</td>\n",
              "      <td>100000.000000</td>\n",
              "      <td>30000.000000</td>\n",
              "      <td>98.890000</td>\n",
              "      <td>12.000000</td>\n",
              "      <td>2400.000000</td>\n",
              "      <td>149.400000</td>\n",
              "      <td>1714.500000</td>\n",
              "    </tr>\n",
              "  </tbody>\n",
              "</table>\n",
              "<p>8 rows × 44 columns</p>\n",
              "</div>"
            ],
            "text/plain": [
              "       Nutrient Data Bank Number  Data.Alpha Carotene     Data.Ash  \\\n",
              "count                7413.000000          7413.000000  7413.000000   \n",
              "mean                14116.443680            21.210711     1.852459   \n",
              "std                  8767.416214           269.714183     2.993228   \n",
              "min                  1001.000000             0.000000     0.000000   \n",
              "25%                  8121.000000             0.000000     0.830000   \n",
              "50%                 12539.000000             0.000000     1.240000   \n",
              "75%                 18424.000000             0.000000     2.200000   \n",
              "max                 93600.000000         14251.000000    99.800000   \n",
              "\n",
              "       Data.Beta Carotene  Data.Beta Cryptoxanthin  Data.Carbohydrate  \\\n",
              "count         7413.000000              7413.000000        7413.000000   \n",
              "mean           159.043437                 8.776744          21.785381   \n",
              "std           1126.285026               154.184860          27.123491   \n",
              "min              0.000000                 0.000000           0.000000   \n",
              "25%              0.000000                 0.000000           0.490000   \n",
              "50%              0.000000                 0.000000           9.290000   \n",
              "75%              1.000000                 0.000000          30.590000   \n",
              "max          42891.000000              7923.000000         100.000000   \n",
              "\n",
              "       Data.Cholesterol  Data.Choline   Data.Fiber  Data.Kilocalories  ...  \\\n",
              "count       7413.000000   7413.000000  7413.000000        7413.000000  ...   \n",
              "mean          37.162822     20.673546     1.993147         219.655875  ...   \n",
              "std          119.738438     45.481990     4.292873         171.668713  ...   \n",
              "min            0.000000      0.000000     0.000000           0.000000  ...   \n",
              "25%            0.000000      0.000000     0.000000          82.000000  ...   \n",
              "50%            2.000000      0.000000     0.300000         181.000000  ...   \n",
              "75%           60.000000     20.000000     2.300000         331.000000  ...   \n",
              "max         3100.000000   1388.000000    79.000000         902.000000  ...   \n",
              "\n",
              "       Data.Major Minerals.Potassium  Data.Major Minerals.Sodium  \\\n",
              "count                    7413.000000                 7413.000000   \n",
              "mean                      268.348172                  331.590719   \n",
              "std                       404.916220                  977.046544   \n",
              "min                         0.000000                    0.000000   \n",
              "25%                       103.000000                   31.000000   \n",
              "50%                       210.000000                   86.000000   \n",
              "75%                       328.000000                  428.000000   \n",
              "max                     16500.000000                38758.000000   \n",
              "\n",
              "       Data.Major Minerals.Zinc  Data.Vitamins.Vitamin A - IU  \\\n",
              "count               7413.000000                   7413.000000   \n",
              "mean                   1.875125                    767.568191   \n",
              "std                    4.193682                   3871.307652   \n",
              "min                    0.000000                      0.000000   \n",
              "25%                    0.190000                      0.000000   \n",
              "50%                    0.770000                     33.000000   \n",
              "75%                    2.460000                    280.000000   \n",
              "max                  181.610000                 100000.000000   \n",
              "\n",
              "       Data.Vitamins.Vitamin A - RAE  Data.Vitamins.Vitamin B12  \\\n",
              "count                    7413.000000                7413.000000   \n",
              "mean                       99.437070                   1.172903   \n",
              "std                       761.653061                   4.512816   \n",
              "min                         0.000000                   0.000000   \n",
              "25%                         0.000000                   0.000000   \n",
              "50%                         0.000000                   0.010000   \n",
              "75%                        24.000000                   0.830000   \n",
              "max                     30000.000000                  98.890000   \n",
              "\n",
              "       Data.Vitamins.Vitamin B6  Data.Vitamins.Vitamin C  \\\n",
              "count               7413.000000              7413.000000   \n",
              "mean                   0.269547                 9.075651   \n",
              "std                    0.565116                63.443284   \n",
              "min                    0.000000                 0.000000   \n",
              "25%                    0.030000                 0.000000   \n",
              "50%                    0.110000                 0.000000   \n",
              "75%                    0.330000                 3.500000   \n",
              "max                   12.000000              2400.000000   \n",
              "\n",
              "       Data.Vitamins.Vitamin E  Data.Vitamins.Vitamin K  \n",
              "count              7413.000000              7413.000000  \n",
              "mean                  0.842837                 9.448604  \n",
              "std                   4.169756                66.067619  \n",
              "min                   0.000000                 0.000000  \n",
              "25%                   0.000000                 0.000000  \n",
              "50%                   0.050000                 0.000000  \n",
              "75%                   0.390000                 1.700000  \n",
              "max                 149.400000              1714.500000  \n",
              "\n",
              "[8 rows x 44 columns]"
            ]
          },
          "execution_count": 9,
          "metadata": {},
          "output_type": "execute_result"
        }
      ],
      "source": [
        "df.describe()"
      ]
    },
    {
      "attachments": {},
      "cell_type": "markdown",
      "metadata": {},
      "source": [
        "# Menghitung Value Category"
      ]
    },
    {
      "cell_type": "code",
      "execution_count": 10,
      "metadata": {
        "colab": {
          "base_uri": "https://localhost:8080/"
        },
        "id": "ZnFfdyHUmcOr",
        "outputId": "f5e0719c-3e7d-4343-fd93-5a078e422ef3"
      },
      "outputs": [
        {
          "data": {
            "text/plain": [
              "BEEF                                               457\n",
              "PORK                                               304\n",
              "CEREALS RTE                                        291\n",
              "BABYFOOD                                           221\n",
              "LAMB                                               198\n",
              "                                                  ... \n",
              "MORNINGSTAR FARMS VEGGIE BACON STRIPS                1\n",
              "MORNINGSTAR FARMS VEGGIE BITES COUNTRY SCRAMBLE      1\n",
              "MORNINGSTAR FARMS VEGGIE BITES EGGS FLORENTINE       1\n",
              "MORNINGSTAR FARMS VEGGIE SAUSAGE LINKS               1\n",
              "TURTLE                                               1\n",
              "Name: Category, Length: 1183, dtype: int64"
            ]
          },
          "execution_count": 10,
          "metadata": {},
          "output_type": "execute_result"
        }
      ],
      "source": [
        "df['Category'].value_counts()"
      ]
    },
    {
      "attachments": {},
      "cell_type": "markdown",
      "metadata": {},
      "source": [
        "# Mengambil category terbanyak untuk digunakan"
      ]
    },
    {
      "cell_type": "code",
      "execution_count": 11,
      "metadata": {
        "id": "Fm-eV-kfPfJZ"
      },
      "outputs": [],
      "source": [
        "df = df.loc[df['Category'].isin(['BEEF','PORK', 'BABYFOOD', 'LAMB', 'CEREALS RTE'])]"
      ]
    },
    {
      "cell_type": "code",
      "execution_count": 12,
      "metadata": {
        "colab": {
          "base_uri": "https://localhost:8080/",
          "height": 352
        },
        "id": "oVIhVWFudIqq",
        "outputId": "c51ba602-c513-4357-c0e1-1099802e8db7"
      },
      "outputs": [
        {
          "data": {
            "text/html": [
              "<div>\n",
              "<style scoped>\n",
              "    .dataframe tbody tr th:only-of-type {\n",
              "        vertical-align: middle;\n",
              "    }\n",
              "\n",
              "    .dataframe tbody tr th {\n",
              "        vertical-align: top;\n",
              "    }\n",
              "\n",
              "    .dataframe thead th {\n",
              "        text-align: right;\n",
              "    }\n",
              "</style>\n",
              "<table border=\"1\" class=\"dataframe\">\n",
              "  <thead>\n",
              "    <tr style=\"text-align: right;\">\n",
              "      <th></th>\n",
              "      <th>Category</th>\n",
              "      <th>Description</th>\n",
              "      <th>Nutrient Data Bank Number</th>\n",
              "      <th>Data.Alpha Carotene</th>\n",
              "      <th>Data.Ash</th>\n",
              "      <th>Data.Beta Carotene</th>\n",
              "      <th>Data.Beta Cryptoxanthin</th>\n",
              "      <th>Data.Carbohydrate</th>\n",
              "      <th>Data.Cholesterol</th>\n",
              "      <th>Data.Choline</th>\n",
              "      <th>...</th>\n",
              "      <th>Data.Major Minerals.Potassium</th>\n",
              "      <th>Data.Major Minerals.Sodium</th>\n",
              "      <th>Data.Major Minerals.Zinc</th>\n",
              "      <th>Data.Vitamins.Vitamin A - IU</th>\n",
              "      <th>Data.Vitamins.Vitamin A - RAE</th>\n",
              "      <th>Data.Vitamins.Vitamin B12</th>\n",
              "      <th>Data.Vitamins.Vitamin B6</th>\n",
              "      <th>Data.Vitamins.Vitamin C</th>\n",
              "      <th>Data.Vitamins.Vitamin E</th>\n",
              "      <th>Data.Vitamins.Vitamin K</th>\n",
              "    </tr>\n",
              "  </thead>\n",
              "  <tbody>\n",
              "    <tr>\n",
              "      <th>249</th>\n",
              "      <td>BABYFOOD</td>\n",
              "      <td>BABYFOOD,MEAT,BF,STR</td>\n",
              "      <td>3002</td>\n",
              "      <td>0</td>\n",
              "      <td>0.57</td>\n",
              "      <td>0</td>\n",
              "      <td>0</td>\n",
              "      <td>2.43</td>\n",
              "      <td>51</td>\n",
              "      <td>38</td>\n",
              "      <td>...</td>\n",
              "      <td>187</td>\n",
              "      <td>46</td>\n",
              "      <td>2.22</td>\n",
              "      <td>0</td>\n",
              "      <td>0</td>\n",
              "      <td>1.26</td>\n",
              "      <td>0.039</td>\n",
              "      <td>2.1</td>\n",
              "      <td>0.37</td>\n",
              "      <td>0.6</td>\n",
              "    </tr>\n",
              "    <tr>\n",
              "      <th>250</th>\n",
              "      <td>BABYFOOD</td>\n",
              "      <td>BABYFOOD,MEAT,BF,STR</td>\n",
              "      <td>3003</td>\n",
              "      <td>0</td>\n",
              "      <td>0.57</td>\n",
              "      <td>0</td>\n",
              "      <td>0</td>\n",
              "      <td>2.43</td>\n",
              "      <td>51</td>\n",
              "      <td>38</td>\n",
              "      <td>...</td>\n",
              "      <td>187</td>\n",
              "      <td>46</td>\n",
              "      <td>2.22</td>\n",
              "      <td>0</td>\n",
              "      <td>0</td>\n",
              "      <td>1.26</td>\n",
              "      <td>0.039</td>\n",
              "      <td>2.1</td>\n",
              "      <td>0.37</td>\n",
              "      <td>0.6</td>\n",
              "    </tr>\n",
              "    <tr>\n",
              "      <th>251</th>\n",
              "      <td>BABYFOOD</td>\n",
              "      <td>BABYFOOD,MEAT,VEAL,STR</td>\n",
              "      <td>3005</td>\n",
              "      <td>0</td>\n",
              "      <td>0.54</td>\n",
              "      <td>0</td>\n",
              "      <td>0</td>\n",
              "      <td>1.51</td>\n",
              "      <td>33</td>\n",
              "      <td>50</td>\n",
              "      <td>...</td>\n",
              "      <td>170</td>\n",
              "      <td>39</td>\n",
              "      <td>2.50</td>\n",
              "      <td>0</td>\n",
              "      <td>0</td>\n",
              "      <td>1.65</td>\n",
              "      <td>0.049</td>\n",
              "      <td>0.0</td>\n",
              "      <td>0.28</td>\n",
              "      <td>0.0</td>\n",
              "    </tr>\n",
              "    <tr>\n",
              "      <th>252</th>\n",
              "      <td>BABYFOOD</td>\n",
              "      <td>BABYFOOD,MEAT,PORK,STR</td>\n",
              "      <td>3007</td>\n",
              "      <td>0</td>\n",
              "      <td>1.10</td>\n",
              "      <td>0</td>\n",
              "      <td>0</td>\n",
              "      <td>0.00</td>\n",
              "      <td>48</td>\n",
              "      <td>0</td>\n",
              "      <td>...</td>\n",
              "      <td>223</td>\n",
              "      <td>42</td>\n",
              "      <td>2.27</td>\n",
              "      <td>38</td>\n",
              "      <td>11</td>\n",
              "      <td>0.99</td>\n",
              "      <td>0.205</td>\n",
              "      <td>1.8</td>\n",
              "      <td>0.40</td>\n",
              "      <td>0.0</td>\n",
              "    </tr>\n",
              "    <tr>\n",
              "      <th>253</th>\n",
              "      <td>BABYFOOD</td>\n",
              "      <td>BABYFOOD,MEAT,HAM,STR</td>\n",
              "      <td>3008</td>\n",
              "      <td>0</td>\n",
              "      <td>0.70</td>\n",
              "      <td>0</td>\n",
              "      <td>0</td>\n",
              "      <td>3.70</td>\n",
              "      <td>24</td>\n",
              "      <td>45</td>\n",
              "      <td>...</td>\n",
              "      <td>204</td>\n",
              "      <td>41</td>\n",
              "      <td>2.25</td>\n",
              "      <td>5</td>\n",
              "      <td>2</td>\n",
              "      <td>0.10</td>\n",
              "      <td>0.252</td>\n",
              "      <td>2.1</td>\n",
              "      <td>0.13</td>\n",
              "      <td>0.0</td>\n",
              "    </tr>\n",
              "  </tbody>\n",
              "</table>\n",
              "<p>5 rows × 48 columns</p>\n",
              "</div>"
            ],
            "text/plain": [
              "     Category             Description  Nutrient Data Bank Number  \\\n",
              "249  BABYFOOD    BABYFOOD,MEAT,BF,STR                       3002   \n",
              "250  BABYFOOD    BABYFOOD,MEAT,BF,STR                       3003   \n",
              "251  BABYFOOD  BABYFOOD,MEAT,VEAL,STR                       3005   \n",
              "252  BABYFOOD  BABYFOOD,MEAT,PORK,STR                       3007   \n",
              "253  BABYFOOD   BABYFOOD,MEAT,HAM,STR                       3008   \n",
              "\n",
              "     Data.Alpha Carotene  Data.Ash  Data.Beta Carotene  \\\n",
              "249                    0      0.57                   0   \n",
              "250                    0      0.57                   0   \n",
              "251                    0      0.54                   0   \n",
              "252                    0      1.10                   0   \n",
              "253                    0      0.70                   0   \n",
              "\n",
              "     Data.Beta Cryptoxanthin  Data.Carbohydrate  Data.Cholesterol  \\\n",
              "249                        0               2.43                51   \n",
              "250                        0               2.43                51   \n",
              "251                        0               1.51                33   \n",
              "252                        0               0.00                48   \n",
              "253                        0               3.70                24   \n",
              "\n",
              "     Data.Choline  ...  Data.Major Minerals.Potassium  \\\n",
              "249            38  ...                            187   \n",
              "250            38  ...                            187   \n",
              "251            50  ...                            170   \n",
              "252             0  ...                            223   \n",
              "253            45  ...                            204   \n",
              "\n",
              "     Data.Major Minerals.Sodium  Data.Major Minerals.Zinc  \\\n",
              "249                          46                      2.22   \n",
              "250                          46                      2.22   \n",
              "251                          39                      2.50   \n",
              "252                          42                      2.27   \n",
              "253                          41                      2.25   \n",
              "\n",
              "     Data.Vitamins.Vitamin A - IU  Data.Vitamins.Vitamin A - RAE  \\\n",
              "249                             0                              0   \n",
              "250                             0                              0   \n",
              "251                             0                              0   \n",
              "252                            38                             11   \n",
              "253                             5                              2   \n",
              "\n",
              "     Data.Vitamins.Vitamin B12  Data.Vitamins.Vitamin B6  \\\n",
              "249                       1.26                     0.039   \n",
              "250                       1.26                     0.039   \n",
              "251                       1.65                     0.049   \n",
              "252                       0.99                     0.205   \n",
              "253                       0.10                     0.252   \n",
              "\n",
              "     Data.Vitamins.Vitamin C  Data.Vitamins.Vitamin E  Data.Vitamins.Vitamin K  \n",
              "249                      2.1                     0.37                      0.6  \n",
              "250                      2.1                     0.37                      0.6  \n",
              "251                      0.0                     0.28                      0.0  \n",
              "252                      1.8                     0.40                      0.0  \n",
              "253                      2.1                     0.13                      0.0  \n",
              "\n",
              "[5 rows x 48 columns]"
            ]
          },
          "execution_count": 12,
          "metadata": {},
          "output_type": "execute_result"
        }
      ],
      "source": [
        "df.head()"
      ]
    },
    {
      "cell_type": "code",
      "execution_count": 13,
      "metadata": {
        "colab": {
          "base_uri": "https://localhost:8080/"
        },
        "id": "xXuShXGZPI_S",
        "outputId": "bceccf6a-a92b-43e9-80e4-bb941bc337ea"
      },
      "outputs": [
        {
          "data": {
            "text/plain": [
              "BEEF           457\n",
              "PORK           304\n",
              "CEREALS RTE    291\n",
              "BABYFOOD       221\n",
              "LAMB           198\n",
              "Name: Category, dtype: int64"
            ]
          },
          "execution_count": 13,
          "metadata": {},
          "output_type": "execute_result"
        }
      ],
      "source": [
        "df['Category'].value_counts()"
      ]
    },
    {
      "attachments": {},
      "cell_type": "markdown",
      "metadata": {},
      "source": [
        "# Mengubah kategori menjadi numerik"
      ]
    },
    {
      "cell_type": "code",
      "execution_count": 14,
      "metadata": {
        "id": "tq6f5O5QeTop"
      },
      "outputs": [],
      "source": [
        "df['Category'] = df['Category'].map({'BEEF':1, 'PORK':2, 'CEREALS RTE':3, 'BABYFOOD':4, 'LAMB':5})"
      ]
    },
    {
      "cell_type": "code",
      "execution_count": 15,
      "metadata": {
        "colab": {
          "base_uri": "https://localhost:8080/"
        },
        "id": "OWVslXZzemDZ",
        "outputId": "80934af0-039a-4160-ccc7-4eef46d3cf97"
      },
      "outputs": [
        {
          "data": {
            "text/plain": [
              "1    457\n",
              "2    304\n",
              "3    291\n",
              "4    221\n",
              "5    198\n",
              "Name: Category, dtype: int64"
            ]
          },
          "execution_count": 15,
          "metadata": {},
          "output_type": "execute_result"
        }
      ],
      "source": [
        "df['Category'].value_counts()"
      ]
    },
    {
      "cell_type": "markdown",
      "metadata": {
        "id": "ghk2hjUyNrB4"
      },
      "source": [
        "# Visualisasi Data"
      ]
    },
    {
      "cell_type": "code",
      "execution_count": 17,
      "metadata": {
        "colab": {
          "base_uri": "https://localhost:8080/",
          "height": 699
        },
        "id": "1XnhYeGZNrB4",
        "outputId": "98dc1542-78ae-4140-a057-41325ab05ebd"
      },
      "outputs": [
        {
          "data": {
            "text/plain": [
              "<Axes: >"
            ]
          },
          "execution_count": 17,
          "metadata": {},
          "output_type": "execute_result"
        },
        {
          "data": {
            "image/png": "[encoded data removed]",
            "text/plain": [
              "<Figure size 1000x800 with 2 Axes>"
            ]
          },
          "metadata": {},
          "output_type": "display_data"
        }
      ],
      "source": [
        "df1 = df[['Data.Ash','Data.Carbohydrate', 'Data.Kilocalories', 'Data.Cholesterol', 'Data.Choline', 'Data.Selenium', 'Data.Water', 'Data.Protein']]\n",
        "plt.figure(figsize=(10,8))\n",
        "sns.heatmap(df1.corr(),annot=True)"
      ]
    },
    {
      "attachments": {},
      "cell_type": "markdown",
      "metadata": {
        "id": "mk83DsmeNrB4"
      },
      "source": [
        "# Jumlah Protein berdasarkan Kategori"
      ]
    },
    {
      "cell_type": "code",
      "execution_count": 18,
      "metadata": {
        "colab": {
          "base_uri": "https://localhost:8080/",
          "height": 466
        },
        "id": "VWO6E1N_NrB5",
        "outputId": "15351e0e-7fa4-42d5-b35b-5020e61871e7"
      },
      "outputs": [
        {
          "data": {
            "text/plain": [
              "(array([0, 1, 2, 3, 4]),\n",
              " [Text(0, 0, '1'),\n",
              "  Text(1, 0, '2'),\n",
              "  Text(2, 0, '3'),\n",
              "  Text(3, 0, '4'),\n",
              "  Text(4, 0, '5')])"
            ]
          },
          "execution_count": 18,
          "metadata": {},
          "output_type": "execute_result"
        },
        {
          "data": {
            "image/png": "[encoded data removed]",
            "text/plain": [
              "<Figure size 1500x500 with 1 Axes>"
            ]
          },
          "metadata": {},
          "output_type": "display_data"
        }
      ],
      "source": [
        "fig = plt.figure(figsize=(15,5))\n",
        "sns.barplot(x=df['Category'], y=df['Data.Protein'], color='royalblue')\n",
        "plt.xticks(rotation=0)"
      ]
    },
    {
      "cell_type": "markdown",
      "metadata": {
        "id": "n6UNK5CHNrB7"
      },
      "source": [
        "# seleksi fitur"
      ]
    },
    {
      "cell_type": "code",
      "execution_count": 21,
      "metadata": {
        "colab": {
          "base_uri": "https://localhost:8080/"
        },
        "id": "WIHGhZq3NrB7",
        "outputId": "7c58737a-304d-4f63-81e9-e8f45b1ab98c"
      },
      "outputs": [
        {
          "data": {
            "text/plain": [
              "((1471, 7), (1471,))"
            ]
          },
          "execution_count": 21,
          "metadata": {},
          "output_type": "execute_result"
        }
      ],
      "source": [
        "features = ['Data.Ash', 'Data.Carbohydrate', 'Data.Kilocalories', 'Data.Cholesterol', 'Data.Choline', 'Data.Selenium', 'Data.Water']\n",
        "x = df[features]\n",
        "y = df['Data.Protein']\n",
        "x.shape, y.shape"
      ]
    },
    {
      "cell_type": "code",
      "execution_count": 22,
      "metadata": {
        "colab": {
          "base_uri": "https://localhost:8080/",
          "height": 424
        },
        "id": "zRiDDZDiPPNS",
        "outputId": "73f95a78-4113-4183-8f80-c2dcbf815509"
      },
      "outputs": [
        {
          "data": {
            "text/html": [
              "<div>\n",
              "<style scoped>\n",
              "    .dataframe tbody tr th:only-of-type {\n",
              "        vertical-align: middle;\n",
              "    }\n",
              "\n",
              "    .dataframe tbody tr th {\n",
              "        vertical-align: top;\n",
              "    }\n",
              "\n",
              "    .dataframe thead th {\n",
              "        text-align: right;\n",
              "    }\n",
              "</style>\n",
              "<table border=\"1\" class=\"dataframe\">\n",
              "  <thead>\n",
              "    <tr style=\"text-align: right;\">\n",
              "      <th></th>\n",
              "      <th>Data.Ash</th>\n",
              "      <th>Data.Carbohydrate</th>\n",
              "      <th>Data.Kilocalories</th>\n",
              "      <th>Data.Cholesterol</th>\n",
              "      <th>Data.Choline</th>\n",
              "      <th>Data.Selenium</th>\n",
              "      <th>Data.Water</th>\n",
              "    </tr>\n",
              "  </thead>\n",
              "  <tbody>\n",
              "    <tr>\n",
              "      <th>249</th>\n",
              "      <td>0.57</td>\n",
              "      <td>2.43</td>\n",
              "      <td>81</td>\n",
              "      <td>51</td>\n",
              "      <td>38</td>\n",
              "      <td>2.9</td>\n",
              "      <td>82.44</td>\n",
              "    </tr>\n",
              "    <tr>\n",
              "      <th>250</th>\n",
              "      <td>0.57</td>\n",
              "      <td>2.43</td>\n",
              "      <td>81</td>\n",
              "      <td>51</td>\n",
              "      <td>38</td>\n",
              "      <td>2.9</td>\n",
              "      <td>82.44</td>\n",
              "    </tr>\n",
              "    <tr>\n",
              "      <th>251</th>\n",
              "      <td>0.54</td>\n",
              "      <td>1.51</td>\n",
              "      <td>81</td>\n",
              "      <td>33</td>\n",
              "      <td>50</td>\n",
              "      <td>3.5</td>\n",
              "      <td>82.37</td>\n",
              "    </tr>\n",
              "    <tr>\n",
              "      <th>252</th>\n",
              "      <td>1.10</td>\n",
              "      <td>0.00</td>\n",
              "      <td>124</td>\n",
              "      <td>48</td>\n",
              "      <td>0</td>\n",
              "      <td>12.9</td>\n",
              "      <td>78.40</td>\n",
              "    </tr>\n",
              "    <tr>\n",
              "      <th>253</th>\n",
              "      <td>0.70</td>\n",
              "      <td>3.70</td>\n",
              "      <td>97</td>\n",
              "      <td>24</td>\n",
              "      <td>45</td>\n",
              "      <td>14.2</td>\n",
              "      <td>80.50</td>\n",
              "    </tr>\n",
              "    <tr>\n",
              "      <th>...</th>\n",
              "      <td>...</td>\n",
              "      <td>...</td>\n",
              "      <td>...</td>\n",
              "      <td>...</td>\n",
              "      <td>...</td>\n",
              "      <td>...</td>\n",
              "      <td>...</td>\n",
              "    </tr>\n",
              "    <tr>\n",
              "      <th>7380</th>\n",
              "      <td>0.33</td>\n",
              "      <td>17.40</td>\n",
              "      <td>79</td>\n",
              "      <td>1</td>\n",
              "      <td>5</td>\n",
              "      <td>0.9</td>\n",
              "      <td>80.70</td>\n",
              "    </tr>\n",
              "    <tr>\n",
              "      <th>7383</th>\n",
              "      <td>0.76</td>\n",
              "      <td>21.34</td>\n",
              "      <td>91</td>\n",
              "      <td>0</td>\n",
              "      <td>4</td>\n",
              "      <td>1.1</td>\n",
              "      <td>76.70</td>\n",
              "    </tr>\n",
              "    <tr>\n",
              "      <th>7384</th>\n",
              "      <td>0.29</td>\n",
              "      <td>16.30</td>\n",
              "      <td>68</td>\n",
              "      <td>0</td>\n",
              "      <td>2</td>\n",
              "      <td>0.6</td>\n",
              "      <td>83.10</td>\n",
              "    </tr>\n",
              "    <tr>\n",
              "      <th>7386</th>\n",
              "      <td>2.16</td>\n",
              "      <td>82.86</td>\n",
              "      <td>394</td>\n",
              "      <td>0</td>\n",
              "      <td>13</td>\n",
              "      <td>8.3</td>\n",
              "      <td>3.40</td>\n",
              "    </tr>\n",
              "    <tr>\n",
              "      <th>7389</th>\n",
              "      <td>0.52</td>\n",
              "      <td>17.18</td>\n",
              "      <td>73</td>\n",
              "      <td>0</td>\n",
              "      <td>2</td>\n",
              "      <td>0.4</td>\n",
              "      <td>81.60</td>\n",
              "    </tr>\n",
              "  </tbody>\n",
              "</table>\n",
              "<p>1471 rows × 7 columns</p>\n",
              "</div>"
            ],
            "text/plain": [
              "      Data.Ash  Data.Carbohydrate  Data.Kilocalories  Data.Cholesterol  \\\n",
              "249       0.57               2.43                 81                51   \n",
              "250       0.57               2.43                 81                51   \n",
              "251       0.54               1.51                 81                33   \n",
              "252       1.10               0.00                124                48   \n",
              "253       0.70               3.70                 97                24   \n",
              "...        ...                ...                ...               ...   \n",
              "7380      0.33              17.40                 79                 1   \n",
              "7383      0.76              21.34                 91                 0   \n",
              "7384      0.29              16.30                 68                 0   \n",
              "7386      2.16              82.86                394                 0   \n",
              "7389      0.52              17.18                 73                 0   \n",
              "\n",
              "      Data.Choline  Data.Selenium  Data.Water  \n",
              "249             38            2.9       82.44  \n",
              "250             38            2.9       82.44  \n",
              "251             50            3.5       82.37  \n",
              "252              0           12.9       78.40  \n",
              "253             45           14.2       80.50  \n",
              "...            ...            ...         ...  \n",
              "7380             5            0.9       80.70  \n",
              "7383             4            1.1       76.70  \n",
              "7384             2            0.6       83.10  \n",
              "7386            13            8.3        3.40  \n",
              "7389             2            0.4       81.60  \n",
              "\n",
              "[1471 rows x 7 columns]"
            ]
          },
          "execution_count": 22,
          "metadata": {},
          "output_type": "execute_result"
        }
      ],
      "source": [
        "x"
      ]
    },
    {
      "attachments": {},
      "cell_type": "markdown",
      "metadata": {
        "id": "e_wyj3QxNrB8"
      },
      "source": [
        "# split data training & data testing"
      ]
    },
    {
      "cell_type": "code",
      "execution_count": 23,
      "metadata": {
        "colab": {
          "base_uri": "https://localhost:8080/"
        },
        "id": "CH-e602xNrB8",
        "outputId": "81142f95-0e9b-4f32-8b9d-ff0357828d3b"
      },
      "outputs": [
        {
          "data": {
            "text/plain": [
              "(368,)"
            ]
          },
          "execution_count": 23,
          "metadata": {},
          "output_type": "execute_result"
        }
      ],
      "source": [
        "from sklearn.model_selection import train_test_split\n",
        "x_train, X_test, y_train, y_test = train_test_split(x,y,random_state=70)\n",
        "y_test.shape"
      ]
    },
    {
      "attachments": {},
      "cell_type": "markdown",
      "metadata": {
        "id": "0MNyj2DUNrB8"
      },
      "source": [
        "# Membuat Model Regresi Linier"
      ]
    },
    {
      "cell_type": "code",
      "execution_count": 27,
      "metadata": {
        "id": "XY987EPsNrB8"
      },
      "outputs": [],
      "source": [
        "from sklearn.linear_model import LinearRegression\n",
        "lr = LinearRegression()\n",
        "lr.fit(x_train,y_train)\n",
        "pred = lr.predict(X_test)"
      ]
    },
    {
      "cell_type": "code",
      "execution_count": 28,
      "metadata": {
        "colab": {
          "base_uri": "https://localhost:8080/"
        },
        "id": "ZzuAkdDdNrB8",
        "outputId": "ee8de680-d013-4433-9482-596523e5712d"
      },
      "outputs": [
        {
          "name": "stdout",
          "output_type": "stream",
          "text": [
            "akurasi model regresi linier =  0.8680924329496258\n"
          ]
        }
      ],
      "source": [
        "score = lr.score(X_test, y_test)\n",
        "print('akurasi model regresi linier = ', score)"
      ]
    },
    {
      "attachments": {},
      "cell_type": "markdown",
      "metadata": {
        "id": "wduTY7hdNrB9"
      },
      "source": [
        "# Membuat Inputan Model Regresi Linier"
      ]
    },
    {
      "cell_type": "code",
      "execution_count": 29,
      "metadata": {
        "colab": {
          "base_uri": "https://localhost:8080/"
        },
        "id": "b_SzsaoMNrB9",
        "outputId": "9f853807-2134-46ad-d9fd-50990fa4d450"
      },
      "outputs": [
        {
          "name": "stdout",
          "output_type": "stream",
          "text": [
            "Estimasi Jumlah protein makanan : [12.01785087]\n"
          ]
        },
        {
          "name": "stderr",
          "output_type": "stream",
          "text": [
            "c:\\Users\\62857\\AppData\\Local\\Programs\\Python\\Python311\\Lib\\site-packages\\sklearn\\base.py:439: UserWarning: X does not have valid feature names, but LinearRegression was fitted with feature names\n",
            "  warnings.warn(\n"
          ]
        }
      ],
      "source": [
        "#Data.Ash = 0.57, Data.Carbohydrate = 2.43, Data.Kilocalories = 81, Data.Cholesterol = 51, Data.Choline = 38, Data.Selenium = 2.9, Data.Water = 82.44\n",
        "input_data = np.array([[0.57,2.43,81,51,38,2.9,82.44]])\n",
        "\n",
        "prediction = lr.predict(input_data)\n",
        "print('Estimasi Jumlah protein makanan :', prediction)"
      ]
    },
    {
      "cell_type": "markdown",
      "metadata": {
        "id": "CUAzcIo0NrB9"
      },
      "source": [
        "# save model"
      ]
    },
    {
      "cell_type": "code",
      "execution_count": 30,
      "metadata": {
        "id": "dGZP0eSLNrB9"
      },
      "outputs": [],
      "source": [
        "import pickle\n",
        "\n",
        "filename = 'estimasi_food.sav'\n",
        "pickle.dump(lr,open(filename,'wb'))"
      ]
    }
  ],
  "metadata": {
    "colab": {
      "provenance": []
    },
    "kernelspec": {
      "display_name": "base",
      "language": "python",
      "name": "python3"
    },
    "language_info": {
      "codemirror_mode": {
        "name": "ipython",
        "version": 3
      },
      "file_extension": ".py",
      "mimetype": "text/x-python",
      "name": "python",
      "nbconvert_exporter": "python",
      "pygments_lexer": "ipython3",
      "version": "3.11.3"
    },
    "orig_nbformat": 4
  },
  "nbformat": 4,
  "nbformat_minor": 0
}
